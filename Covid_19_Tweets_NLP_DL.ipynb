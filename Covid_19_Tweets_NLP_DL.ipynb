{
  "nbformat": 4,
  "nbformat_minor": 0,
  "metadata": {
    "colab": {
      "name": "Covid-19_Tweets_NLP_DL.ipynb",
      "provenance": []
    },
    "kernelspec": {
      "name": "python3",
      "display_name": "Python 3"
    },
    "language_info": {
      "name": "python"
    }
  },
  "cells": [
    {
      "cell_type": "markdown",
      "source": [
        "#Adding required Libraries"
      ],
      "metadata": {
        "id": "PQbr1L3oPMC_"
      }
    },
    {
      "cell_type": "code",
      "source": [
        "#pip install emoji"
      ],
      "metadata": {
        "colab": {
          "base_uri": "https://localhost:8080/"
        },
        "id": "asC_8Lq2INUx",
        "outputId": "d138e070-20d4-4006-9a70-c0395fb16ca2"
      },
      "execution_count": null,
      "outputs": [
        {
          "output_type": "stream",
          "name": "stdout",
          "text": [
            "Collecting emoji\n",
            "  Downloading emoji-1.6.1.tar.gz (170 kB)\n",
            "\u001b[?25l\r\u001b[K     |██                              | 10 kB 16.9 MB/s eta 0:00:01\r\u001b[K     |███▉                            | 20 kB 21.6 MB/s eta 0:00:01\r\u001b[K     |█████▉                          | 30 kB 26.3 MB/s eta 0:00:01\r\u001b[K     |███████▊                        | 40 kB 24.0 MB/s eta 0:00:01\r\u001b[K     |█████████▋                      | 51 kB 10.4 MB/s eta 0:00:01\r\u001b[K     |███████████▋                    | 61 kB 10.9 MB/s eta 0:00:01\r\u001b[K     |█████████████▌                  | 71 kB 7.2 MB/s eta 0:00:01\r\u001b[K     |███████████████▍                | 81 kB 7.6 MB/s eta 0:00:01\r\u001b[K     |█████████████████▍              | 92 kB 7.8 MB/s eta 0:00:01\r\u001b[K     |███████████████████▎            | 102 kB 8.5 MB/s eta 0:00:01\r\u001b[K     |█████████████████████▏          | 112 kB 8.5 MB/s eta 0:00:01\r\u001b[K     |███████████████████████▏        | 122 kB 8.5 MB/s eta 0:00:01\r\u001b[K     |█████████████████████████       | 133 kB 8.5 MB/s eta 0:00:01\r\u001b[K     |███████████████████████████     | 143 kB 8.5 MB/s eta 0:00:01\r\u001b[K     |█████████████████████████████   | 153 kB 8.5 MB/s eta 0:00:01\r\u001b[K     |██████████████████████████████▉ | 163 kB 8.5 MB/s eta 0:00:01\r\u001b[K     |████████████████████████████████| 170 kB 8.5 MB/s \n",
            "\u001b[?25hBuilding wheels for collected packages: emoji\n",
            "  Building wheel for emoji (setup.py) ... \u001b[?25l\u001b[?25hdone\n",
            "  Created wheel for emoji: filename=emoji-1.6.1-py3-none-any.whl size=169314 sha256=b9bd826dda33324a9a44735257b9f09314f9f8c731e861b0b7c4bd4abc31c2aa\n",
            "  Stored in directory: /root/.cache/pip/wheels/ea/5f/d3/03d313ddb3c2a1a427bb4690f1621eea60fe6f2a30cc95940f\n",
            "Successfully built emoji\n",
            "Installing collected packages: emoji\n",
            "Successfully installed emoji-1.6.1\n"
          ]
        }
      ]
    },
    {
      "cell_type": "code",
      "execution_count": null,
      "metadata": {
        "id": "4Mev2n0aN4Me"
      },
      "outputs": [],
      "source": [
        "import numpy as np\n",
        "import pandas as pd\n",
        "import re,string\n",
        "#import emoji\n",
        "from google.colab import drive"
      ]
    },
    {
      "cell_type": "markdown",
      "source": [
        "#Uploading Data"
      ],
      "metadata": {
        "id": "ionPGPAGPx9O"
      }
    },
    {
      "cell_type": "code",
      "source": [
        "drive.mount('/content/gdrive')"
      ],
      "metadata": {
        "colab": {
          "base_uri": "https://localhost:8080/"
        },
        "id": "pFcmo8veP7yG",
        "outputId": "986dbb1d-e163-4c50-b598-1ec4c8d4dd09"
      },
      "execution_count": null,
      "outputs": [
        {
          "output_type": "stream",
          "name": "stdout",
          "text": [
            "Mounted at /content/gdrive\n"
          ]
        }
      ]
    },
    {
      "cell_type": "code",
      "source": [
        "DATADIR = \"gdrive/MyDrive/DataSets/Coronavirus tweets NLP - Text Classification\"\n",
        "train_data = pd.read_csv(DATADIR + \"/Corona_NLP_train.csv\",encoding=\"latin-1\")\n",
        "test_data = pd.read_csv(DATADIR + \"/Corona_NLP_test.csv\",encoding=\"latin-1\")"
      ],
      "metadata": {
        "id": "-PtqUTRYP-vm"
      },
      "execution_count": null,
      "outputs": []
    },
    {
      "cell_type": "markdown",
      "source": [
        "#Understanding Data"
      ],
      "metadata": {
        "id": "K9DFV8DRRAL9"
      }
    },
    {
      "cell_type": "code",
      "source": [
        "train_data.head()"
      ],
      "metadata": {
        "colab": {
          "base_uri": "https://localhost:8080/",
          "height": 206
        },
        "id": "OuAwApwkQ3xW",
        "outputId": "156fc780-92ab-492b-8b23-159443e7614f"
      },
      "execution_count": null,
      "outputs": [
        {
          "output_type": "execute_result",
          "data": {
            "text/html": [
              "\n",
              "  <div id=\"df-f9f6db64-b454-45c0-9b91-a0183d1cac70\">\n",
              "    <div class=\"colab-df-container\">\n",
              "      <div>\n",
              "<style scoped>\n",
              "    .dataframe tbody tr th:only-of-type {\n",
              "        vertical-align: middle;\n",
              "    }\n",
              "\n",
              "    .dataframe tbody tr th {\n",
              "        vertical-align: top;\n",
              "    }\n",
              "\n",
              "    .dataframe thead th {\n",
              "        text-align: right;\n",
              "    }\n",
              "</style>\n",
              "<table border=\"1\" class=\"dataframe\">\n",
              "  <thead>\n",
              "    <tr style=\"text-align: right;\">\n",
              "      <th></th>\n",
              "      <th>UserName</th>\n",
              "      <th>ScreenName</th>\n",
              "      <th>Location</th>\n",
              "      <th>TweetAt</th>\n",
              "      <th>OriginalTweet</th>\n",
              "      <th>Sentiment</th>\n",
              "    </tr>\n",
              "  </thead>\n",
              "  <tbody>\n",
              "    <tr>\n",
              "      <th>0</th>\n",
              "      <td>3799</td>\n",
              "      <td>48751</td>\n",
              "      <td>London</td>\n",
              "      <td>16-03-2020</td>\n",
              "      <td>@MeNyrbie @Phil_Gahan @Chrisitv https://t.co/i...</td>\n",
              "      <td>Neutral</td>\n",
              "    </tr>\n",
              "    <tr>\n",
              "      <th>1</th>\n",
              "      <td>3800</td>\n",
              "      <td>48752</td>\n",
              "      <td>UK</td>\n",
              "      <td>16-03-2020</td>\n",
              "      <td>advice Talk to your neighbours family to excha...</td>\n",
              "      <td>Positive</td>\n",
              "    </tr>\n",
              "    <tr>\n",
              "      <th>2</th>\n",
              "      <td>3801</td>\n",
              "      <td>48753</td>\n",
              "      <td>Vagabonds</td>\n",
              "      <td>16-03-2020</td>\n",
              "      <td>Coronavirus Australia: Woolworths to give elde...</td>\n",
              "      <td>Positive</td>\n",
              "    </tr>\n",
              "    <tr>\n",
              "      <th>3</th>\n",
              "      <td>3802</td>\n",
              "      <td>48754</td>\n",
              "      <td>NaN</td>\n",
              "      <td>16-03-2020</td>\n",
              "      <td>My food stock is not the only one which is emp...</td>\n",
              "      <td>Positive</td>\n",
              "    </tr>\n",
              "    <tr>\n",
              "      <th>4</th>\n",
              "      <td>3803</td>\n",
              "      <td>48755</td>\n",
              "      <td>NaN</td>\n",
              "      <td>16-03-2020</td>\n",
              "      <td>Me, ready to go at supermarket during the #COV...</td>\n",
              "      <td>Extremely Negative</td>\n",
              "    </tr>\n",
              "  </tbody>\n",
              "</table>\n",
              "</div>\n",
              "      <button class=\"colab-df-convert\" onclick=\"convertToInteractive('df-f9f6db64-b454-45c0-9b91-a0183d1cac70')\"\n",
              "              title=\"Convert this dataframe to an interactive table.\"\n",
              "              style=\"display:none;\">\n",
              "        \n",
              "  <svg xmlns=\"http://www.w3.org/2000/svg\" height=\"24px\"viewBox=\"0 0 24 24\"\n",
              "       width=\"24px\">\n",
              "    <path d=\"M0 0h24v24H0V0z\" fill=\"none\"/>\n",
              "    <path d=\"M18.56 5.44l.94 2.06.94-2.06 2.06-.94-2.06-.94-.94-2.06-.94 2.06-2.06.94zm-11 1L8.5 8.5l.94-2.06 2.06-.94-2.06-.94L8.5 2.5l-.94 2.06-2.06.94zm10 10l.94 2.06.94-2.06 2.06-.94-2.06-.94-.94-2.06-.94 2.06-2.06.94z\"/><path d=\"M17.41 7.96l-1.37-1.37c-.4-.4-.92-.59-1.43-.59-.52 0-1.04.2-1.43.59L10.3 9.45l-7.72 7.72c-.78.78-.78 2.05 0 2.83L4 21.41c.39.39.9.59 1.41.59.51 0 1.02-.2 1.41-.59l7.78-7.78 2.81-2.81c.8-.78.8-2.07 0-2.86zM5.41 20L4 18.59l7.72-7.72 1.47 1.35L5.41 20z\"/>\n",
              "  </svg>\n",
              "      </button>\n",
              "      \n",
              "  <style>\n",
              "    .colab-df-container {\n",
              "      display:flex;\n",
              "      flex-wrap:wrap;\n",
              "      gap: 12px;\n",
              "    }\n",
              "\n",
              "    .colab-df-convert {\n",
              "      background-color: #E8F0FE;\n",
              "      border: none;\n",
              "      border-radius: 50%;\n",
              "      cursor: pointer;\n",
              "      display: none;\n",
              "      fill: #1967D2;\n",
              "      height: 32px;\n",
              "      padding: 0 0 0 0;\n",
              "      width: 32px;\n",
              "    }\n",
              "\n",
              "    .colab-df-convert:hover {\n",
              "      background-color: #E2EBFA;\n",
              "      box-shadow: 0px 1px 2px rgba(60, 64, 67, 0.3), 0px 1px 3px 1px rgba(60, 64, 67, 0.15);\n",
              "      fill: #174EA6;\n",
              "    }\n",
              "\n",
              "    [theme=dark] .colab-df-convert {\n",
              "      background-color: #3B4455;\n",
              "      fill: #D2E3FC;\n",
              "    }\n",
              "\n",
              "    [theme=dark] .colab-df-convert:hover {\n",
              "      background-color: #434B5C;\n",
              "      box-shadow: 0px 1px 3px 1px rgba(0, 0, 0, 0.15);\n",
              "      filter: drop-shadow(0px 1px 2px rgba(0, 0, 0, 0.3));\n",
              "      fill: #FFFFFF;\n",
              "    }\n",
              "  </style>\n",
              "\n",
              "      <script>\n",
              "        const buttonEl =\n",
              "          document.querySelector('#df-f9f6db64-b454-45c0-9b91-a0183d1cac70 button.colab-df-convert');\n",
              "        buttonEl.style.display =\n",
              "          google.colab.kernel.accessAllowed ? 'block' : 'none';\n",
              "\n",
              "        async function convertToInteractive(key) {\n",
              "          const element = document.querySelector('#df-f9f6db64-b454-45c0-9b91-a0183d1cac70');\n",
              "          const dataTable =\n",
              "            await google.colab.kernel.invokeFunction('convertToInteractive',\n",
              "                                                     [key], {});\n",
              "          if (!dataTable) return;\n",
              "\n",
              "          const docLinkHtml = 'Like what you see? Visit the ' +\n",
              "            '<a target=\"_blank\" href=https://colab.research.google.com/notebooks/data_table.ipynb>data table notebook</a>'\n",
              "            + ' to learn more about interactive tables.';\n",
              "          element.innerHTML = '';\n",
              "          dataTable['output_type'] = 'display_data';\n",
              "          await google.colab.output.renderOutput(dataTable, element);\n",
              "          const docLink = document.createElement('div');\n",
              "          docLink.innerHTML = docLinkHtml;\n",
              "          element.appendChild(docLink);\n",
              "        }\n",
              "      </script>\n",
              "    </div>\n",
              "  </div>\n",
              "  "
            ],
            "text/plain": [
              "   UserName  ...           Sentiment\n",
              "0      3799  ...             Neutral\n",
              "1      3800  ...            Positive\n",
              "2      3801  ...            Positive\n",
              "3      3802  ...            Positive\n",
              "4      3803  ...  Extremely Negative\n",
              "\n",
              "[5 rows x 6 columns]"
            ]
          },
          "metadata": {},
          "execution_count": 5
        }
      ]
    },
    {
      "cell_type": "code",
      "source": [
        "test_data.head()"
      ],
      "metadata": {
        "colab": {
          "base_uri": "https://localhost:8080/",
          "height": 336
        },
        "id": "-_CGgvCZRE5t",
        "outputId": "48870266-944b-4e59-f3bc-0b814de44dd4"
      },
      "execution_count": null,
      "outputs": [
        {
          "output_type": "execute_result",
          "data": {
            "text/html": [
              "\n",
              "  <div id=\"df-390bca37-cc64-45dc-8843-ac11902105fc\">\n",
              "    <div class=\"colab-df-container\">\n",
              "      <div>\n",
              "<style scoped>\n",
              "    .dataframe tbody tr th:only-of-type {\n",
              "        vertical-align: middle;\n",
              "    }\n",
              "\n",
              "    .dataframe tbody tr th {\n",
              "        vertical-align: top;\n",
              "    }\n",
              "\n",
              "    .dataframe thead th {\n",
              "        text-align: right;\n",
              "    }\n",
              "</style>\n",
              "<table border=\"1\" class=\"dataframe\">\n",
              "  <thead>\n",
              "    <tr style=\"text-align: right;\">\n",
              "      <th></th>\n",
              "      <th>UserName</th>\n",
              "      <th>ScreenName</th>\n",
              "      <th>Location</th>\n",
              "      <th>TweetAt</th>\n",
              "      <th>OriginalTweet</th>\n",
              "      <th>Sentiment</th>\n",
              "    </tr>\n",
              "  </thead>\n",
              "  <tbody>\n",
              "    <tr>\n",
              "      <th>0</th>\n",
              "      <td>1</td>\n",
              "      <td>44953</td>\n",
              "      <td>NYC</td>\n",
              "      <td>02-03-2020</td>\n",
              "      <td>TRENDING: New Yorkers encounter empty supermar...</td>\n",
              "      <td>Extremely Negative</td>\n",
              "    </tr>\n",
              "    <tr>\n",
              "      <th>1</th>\n",
              "      <td>2</td>\n",
              "      <td>44954</td>\n",
              "      <td>Seattle, WA</td>\n",
              "      <td>02-03-2020</td>\n",
              "      <td>When I couldn't find hand sanitizer at Fred Me...</td>\n",
              "      <td>Positive</td>\n",
              "    </tr>\n",
              "    <tr>\n",
              "      <th>2</th>\n",
              "      <td>3</td>\n",
              "      <td>44955</td>\n",
              "      <td>NaN</td>\n",
              "      <td>02-03-2020</td>\n",
              "      <td>Find out how you can protect yourself and love...</td>\n",
              "      <td>Extremely Positive</td>\n",
              "    </tr>\n",
              "    <tr>\n",
              "      <th>3</th>\n",
              "      <td>4</td>\n",
              "      <td>44956</td>\n",
              "      <td>Chicagoland</td>\n",
              "      <td>02-03-2020</td>\n",
              "      <td>#Panic buying hits #NewYork City as anxious sh...</td>\n",
              "      <td>Negative</td>\n",
              "    </tr>\n",
              "    <tr>\n",
              "      <th>4</th>\n",
              "      <td>5</td>\n",
              "      <td>44957</td>\n",
              "      <td>Melbourne, Victoria</td>\n",
              "      <td>03-03-2020</td>\n",
              "      <td>#toiletpaper #dunnypaper #coronavirus #coronav...</td>\n",
              "      <td>Neutral</td>\n",
              "    </tr>\n",
              "  </tbody>\n",
              "</table>\n",
              "</div>\n",
              "      <button class=\"colab-df-convert\" onclick=\"convertToInteractive('df-390bca37-cc64-45dc-8843-ac11902105fc')\"\n",
              "              title=\"Convert this dataframe to an interactive table.\"\n",
              "              style=\"display:none;\">\n",
              "        \n",
              "  <svg xmlns=\"http://www.w3.org/2000/svg\" height=\"24px\"viewBox=\"0 0 24 24\"\n",
              "       width=\"24px\">\n",
              "    <path d=\"M0 0h24v24H0V0z\" fill=\"none\"/>\n",
              "    <path d=\"M18.56 5.44l.94 2.06.94-2.06 2.06-.94-2.06-.94-.94-2.06-.94 2.06-2.06.94zm-11 1L8.5 8.5l.94-2.06 2.06-.94-2.06-.94L8.5 2.5l-.94 2.06-2.06.94zm10 10l.94 2.06.94-2.06 2.06-.94-2.06-.94-.94-2.06-.94 2.06-2.06.94z\"/><path d=\"M17.41 7.96l-1.37-1.37c-.4-.4-.92-.59-1.43-.59-.52 0-1.04.2-1.43.59L10.3 9.45l-7.72 7.72c-.78.78-.78 2.05 0 2.83L4 21.41c.39.39.9.59 1.41.59.51 0 1.02-.2 1.41-.59l7.78-7.78 2.81-2.81c.8-.78.8-2.07 0-2.86zM5.41 20L4 18.59l7.72-7.72 1.47 1.35L5.41 20z\"/>\n",
              "  </svg>\n",
              "      </button>\n",
              "      \n",
              "  <style>\n",
              "    .colab-df-container {\n",
              "      display:flex;\n",
              "      flex-wrap:wrap;\n",
              "      gap: 12px;\n",
              "    }\n",
              "\n",
              "    .colab-df-convert {\n",
              "      background-color: #E8F0FE;\n",
              "      border: none;\n",
              "      border-radius: 50%;\n",
              "      cursor: pointer;\n",
              "      display: none;\n",
              "      fill: #1967D2;\n",
              "      height: 32px;\n",
              "      padding: 0 0 0 0;\n",
              "      width: 32px;\n",
              "    }\n",
              "\n",
              "    .colab-df-convert:hover {\n",
              "      background-color: #E2EBFA;\n",
              "      box-shadow: 0px 1px 2px rgba(60, 64, 67, 0.3), 0px 1px 3px 1px rgba(60, 64, 67, 0.15);\n",
              "      fill: #174EA6;\n",
              "    }\n",
              "\n",
              "    [theme=dark] .colab-df-convert {\n",
              "      background-color: #3B4455;\n",
              "      fill: #D2E3FC;\n",
              "    }\n",
              "\n",
              "    [theme=dark] .colab-df-convert:hover {\n",
              "      background-color: #434B5C;\n",
              "      box-shadow: 0px 1px 3px 1px rgba(0, 0, 0, 0.15);\n",
              "      filter: drop-shadow(0px 1px 2px rgba(0, 0, 0, 0.3));\n",
              "      fill: #FFFFFF;\n",
              "    }\n",
              "  </style>\n",
              "\n",
              "      <script>\n",
              "        const buttonEl =\n",
              "          document.querySelector('#df-390bca37-cc64-45dc-8843-ac11902105fc button.colab-df-convert');\n",
              "        buttonEl.style.display =\n",
              "          google.colab.kernel.accessAllowed ? 'block' : 'none';\n",
              "\n",
              "        async function convertToInteractive(key) {\n",
              "          const element = document.querySelector('#df-390bca37-cc64-45dc-8843-ac11902105fc');\n",
              "          const dataTable =\n",
              "            await google.colab.kernel.invokeFunction('convertToInteractive',\n",
              "                                                     [key], {});\n",
              "          if (!dataTable) return;\n",
              "\n",
              "          const docLinkHtml = 'Like what you see? Visit the ' +\n",
              "            '<a target=\"_blank\" href=https://colab.research.google.com/notebooks/data_table.ipynb>data table notebook</a>'\n",
              "            + ' to learn more about interactive tables.';\n",
              "          element.innerHTML = '';\n",
              "          dataTable['output_type'] = 'display_data';\n",
              "          await google.colab.output.renderOutput(dataTable, element);\n",
              "          const docLink = document.createElement('div');\n",
              "          docLink.innerHTML = docLinkHtml;\n",
              "          element.appendChild(docLink);\n",
              "        }\n",
              "      </script>\n",
              "    </div>\n",
              "  </div>\n",
              "  "
            ],
            "text/plain": [
              "   UserName  ...           Sentiment\n",
              "0         1  ...  Extremely Negative\n",
              "1         2  ...            Positive\n",
              "2         3  ...  Extremely Positive\n",
              "3         4  ...            Negative\n",
              "4         5  ...             Neutral\n",
              "\n",
              "[5 rows x 6 columns]"
            ]
          },
          "metadata": {},
          "execution_count": 6
        }
      ]
    },
    {
      "cell_type": "code",
      "source": [
        "train_data.info()"
      ],
      "metadata": {
        "colab": {
          "base_uri": "https://localhost:8080/"
        },
        "id": "ioXs20pERJ3N",
        "outputId": "0bb5fd69-4d5b-4874-a9d9-e048a9f68ae7"
      },
      "execution_count": null,
      "outputs": [
        {
          "output_type": "stream",
          "name": "stdout",
          "text": [
            "<class 'pandas.core.frame.DataFrame'>\n",
            "RangeIndex: 41157 entries, 0 to 41156\n",
            "Data columns (total 6 columns):\n",
            " #   Column         Non-Null Count  Dtype \n",
            "---  ------         --------------  ----- \n",
            " 0   UserName       41157 non-null  int64 \n",
            " 1   ScreenName     41157 non-null  int64 \n",
            " 2   Location       32567 non-null  object\n",
            " 3   TweetAt        41157 non-null  object\n",
            " 4   OriginalTweet  41157 non-null  object\n",
            " 5   Sentiment      41157 non-null  object\n",
            "dtypes: int64(2), object(4)\n",
            "memory usage: 1.9+ MB\n"
          ]
        }
      ]
    },
    {
      "cell_type": "code",
      "source": [
        "test_data.info()"
      ],
      "metadata": {
        "colab": {
          "base_uri": "https://localhost:8080/"
        },
        "id": "jRitoFyPRREe",
        "outputId": "ec5e024c-0988-4526-e07e-feb729452622"
      },
      "execution_count": null,
      "outputs": [
        {
          "output_type": "stream",
          "name": "stdout",
          "text": [
            "<class 'pandas.core.frame.DataFrame'>\n",
            "RangeIndex: 3798 entries, 0 to 3797\n",
            "Data columns (total 6 columns):\n",
            " #   Column         Non-Null Count  Dtype \n",
            "---  ------         --------------  ----- \n",
            " 0   UserName       3798 non-null   int64 \n",
            " 1   ScreenName     3798 non-null   int64 \n",
            " 2   Location       2964 non-null   object\n",
            " 3   TweetAt        3798 non-null   object\n",
            " 4   OriginalTweet  3798 non-null   object\n",
            " 5   Sentiment      3798 non-null   object\n",
            "dtypes: int64(2), object(4)\n",
            "memory usage: 178.2+ KB\n"
          ]
        }
      ]
    },
    {
      "cell_type": "code",
      "source": [
        "train_data.isnull().sum(axis = 0)"
      ],
      "metadata": {
        "colab": {
          "base_uri": "https://localhost:8080/"
        },
        "id": "_IauWuXURS92",
        "outputId": "5227a9e8-b0a9-4140-b730-9ea24651e7ca"
      },
      "execution_count": null,
      "outputs": [
        {
          "output_type": "execute_result",
          "data": {
            "text/plain": [
              "UserName            0\n",
              "ScreenName          0\n",
              "Location         8590\n",
              "TweetAt             0\n",
              "OriginalTweet       0\n",
              "Sentiment           0\n",
              "dtype: int64"
            ]
          },
          "metadata": {},
          "execution_count": 9
        }
      ]
    },
    {
      "cell_type": "code",
      "source": [
        "test_data.isnull().sum(axis = 0)"
      ],
      "metadata": {
        "colab": {
          "base_uri": "https://localhost:8080/"
        },
        "id": "NWI2u3knRa-O",
        "outputId": "22dd1c13-6ab4-4d16-bea7-a521b7c237f1"
      },
      "execution_count": null,
      "outputs": [
        {
          "output_type": "execute_result",
          "data": {
            "text/plain": [
              "UserName           0\n",
              "ScreenName         0\n",
              "Location         834\n",
              "TweetAt            0\n",
              "OriginalTweet      0\n",
              "Sentiment          0\n",
              "dtype: int64"
            ]
          },
          "metadata": {},
          "execution_count": 10
        }
      ]
    },
    {
      "cell_type": "code",
      "source": [
        "train_data[\"Sentiment\"].value_counts()"
      ],
      "metadata": {
        "colab": {
          "base_uri": "https://localhost:8080/"
        },
        "id": "xaIt9XrCRdjG",
        "outputId": "362c2d21-a6cc-48eb-a9cb-5b2f8acdd325"
      },
      "execution_count": null,
      "outputs": [
        {
          "output_type": "execute_result",
          "data": {
            "text/plain": [
              "Positive              11422\n",
              "Negative               9917\n",
              "Neutral                7713\n",
              "Extremely Positive     6624\n",
              "Extremely Negative     5481\n",
              "Name: Sentiment, dtype: int64"
            ]
          },
          "metadata": {},
          "execution_count": 11
        }
      ]
    },
    {
      "cell_type": "code",
      "source": [
        "test_data[\"Sentiment\"].value_counts()"
      ],
      "metadata": {
        "colab": {
          "base_uri": "https://localhost:8080/"
        },
        "id": "i9TK3FQvRj2G",
        "outputId": "938a18dd-589c-4268-91f6-8d9729947872"
      },
      "execution_count": null,
      "outputs": [
        {
          "output_type": "execute_result",
          "data": {
            "text/plain": [
              "Negative              1041\n",
              "Positive               947\n",
              "Neutral                619\n",
              "Extremely Positive     599\n",
              "Extremely Negative     592\n",
              "Name: Sentiment, dtype: int64"
            ]
          },
          "metadata": {},
          "execution_count": 12
        }
      ]
    },
    {
      "cell_type": "code",
      "source": [
        "for i in range(20):\n",
        "  print(\"Tweet{}\\tSentiment: {} \\n{}\\n\".format(i+1,train_data[\"Sentiment\"][i],train_data[\"OriginalTweet\"][i]))"
      ],
      "metadata": {
        "colab": {
          "base_uri": "https://localhost:8080/"
        },
        "id": "zvPuYahyRmMe",
        "outputId": "344c2fa2-83a0-4dbf-f34b-0fb08b7842ca"
      },
      "execution_count": null,
      "outputs": [
        {
          "output_type": "stream",
          "name": "stdout",
          "text": [
            "Tweet1\tSentiment: Neutral \n",
            "@MeNyrbie @Phil_Gahan @Chrisitv https://t.co/iFz9FAn2Pa and https://t.co/xX6ghGFzCC and https://t.co/I2NlzdxNo8\n",
            "\n",
            "Tweet2\tSentiment: Positive \n",
            "advice Talk to your neighbours family to exchange phone numbers create contact list with phone numbers of neighbours schools employer chemist GP set up online shopping accounts if poss adequate supplies of regular meds but not over order\n",
            "\n",
            "Tweet3\tSentiment: Positive \n",
            "Coronavirus Australia: Woolworths to give elderly, disabled dedicated shopping hours amid COVID-19 outbreak https://t.co/bInCA9Vp8P\n",
            "\n",
            "Tweet4\tSentiment: Positive \n",
            "My food stock is not the only one which is empty...\r\r\n",
            "\r\r\n",
            "PLEASE, don't panic, THERE WILL BE ENOUGH FOOD FOR EVERYONE if you do not take more than you need. \r\r\n",
            "Stay calm, stay safe.\r\r\n",
            "\r\r\n",
            "#COVID19france #COVID_19 #COVID19 #coronavirus #confinement #Confinementotal #ConfinementGeneral https://t.co/zrlG0Z520j\n",
            "\n",
            "Tweet5\tSentiment: Extremely Negative \n",
            "Me, ready to go at supermarket during the #COVID19 outbreak.\r\r\n",
            "\r\r\n",
            "Not because I'm paranoid, but because my food stock is litteraly empty. The #coronavirus is a serious thing, but please, don't panic. It causes shortage...\r\r\n",
            "\r\r\n",
            "#CoronavirusFrance #restezchezvous #StayAtHome #confinement https://t.co/usmuaLq72n\n",
            "\n",
            "Tweet6\tSentiment: Positive \n",
            "As news of the regionÂs first confirmed COVID-19 case came out of Sullivan County last week, people flocked to area stores to purchase cleaning supplies, hand sanitizer, food, toilet paper and other goods, @Tim_Dodson reports https://t.co/cfXch7a2lU\n",
            "\n",
            "Tweet7\tSentiment: Positive \n",
            "Cashier at grocery store was sharing his insights on #Covid_19 To prove his credibility he commented \"I'm in Civics class so I know what I'm talking about\". https://t.co/ieFDNeHgDO\n",
            "\n",
            "Tweet8\tSentiment: Neutral \n",
            "Was at the supermarket today. Didn't buy toilet paper. #Rebel\r\r\n",
            "\r\r\n",
            "#toiletpapercrisis #covid_19 https://t.co/eVXkQLIdAZ\n",
            "\n",
            "Tweet9\tSentiment: Positive \n",
            "Due to COVID-19 our retail store and classroom in Atlanta will not be open for walk-in business or classes for the next two weeks, beginning Monday, March 16.  We will continue to process online and phone orders as normal! Thank you for your understanding! https://t.co/kw91zJ5O5i\n",
            "\n",
            "Tweet10\tSentiment: Negative \n",
            "For corona prevention,we should stop to buy things with the cash and should use online payment methods because corona can spread through the notes. Also we should prefer online shopping from our home. It's time to fight against COVID 19?. #govindia #IndiaFightsCorona\n",
            "\n",
            "Tweet11\tSentiment: Neutral \n",
            "All month there hasn't been crowding in the supermarkets or restaurants, however reducing all the hours and closing the malls means everyone is now using the same entrance and dependent on a single supermarket. #manila #lockdown #covid2019 #Philippines https://t.co/HxWs9LAnF9\n",
            "\n",
            "Tweet12\tSentiment: Extremely Positive \n",
            "Due to the Covid-19 situation, we have increased demand for all food products. \r\r\n",
            "\r\r\n",
            "The wait time may be longer for all online orders, particularly beef share and freezer packs. \r\r\n",
            "\r\r\n",
            "We thank you for your patience during this time.\n",
            "\n",
            "Tweet13\tSentiment: Extremely Positive \n",
            "#horningsea is a caring community. LetÂs ALL look after the less capable in our village and ensure they stay healthy. Bringing shopping to their doors, help with online shopping and self isolation if you have symptoms or been exposed to somebody who has. https://t.co/lsGrXXhjhh\n",
            "\n",
            "Tweet14\tSentiment: Positive \n",
            "Me: I don't need to stock up on food, I'll just have Amazon deliver whatever I need #CoronaVirus\r\r\n",
            "\r\r\n",
            "Amazon: https://t.co/8YWaKFjExC\n",
            "\n",
            "Tweet15\tSentiment: Positive \n",
            "ADARA Releases COVID-19 Resource Center for Travel Brands: Insights Help Travel Brands Stay Up-To-Date on Consumer Travel Behavior Trends https://t.co/PnA797jDKV https://t.co/dQox6uSihz\n",
            "\n",
            "Tweet16\tSentiment: Positive \n",
            "Lines at the grocery store have been unpredictable, but is eating out a safe alternative? \r\r\n",
            "\r\r\n",
            "Find out more about whether you should be avoiding restaurants right now:  https://t.co/9idZSis5oQ\r\r\n",
            "\r\r\n",
            "#coronavirus #covid19 https://t.co/ZHbh898lf6\n",
            "\n",
            "Tweet17\tSentiment: Neutral \n",
            "????? ????? ????? ????? ??\r\r\n",
            "?????? ????? ??????? ????????? ?\r\r\n",
            "#????_???? ????? ???? ?????? ? #????????? ?????? ?? 13 ???? ?? ?? ???? ?????? ?? ??\r\r\n",
            "#???_???????? ????? ??? ???? ? https://t.co/51bL8P6vZh\n",
            "\n",
            "Tweet18\tSentiment: Neutral \n",
            "@eyeonthearctic 16MAR20 Russia consumer surveillance watchdog reported case in high Arctic where a man who traveled to Iran has COVID-19 and 101 are \"observed\"\r\r\n",
            "https://t.co/4WnrrK9oKC https://t.co/ld05k5Eyns\n",
            "\n",
            "Tweet19\tSentiment: Extremely Positive \n",
            "Amazon Glitch Stymies Whole Foods, Fresh Grocery Deliveries\r\r\n",
            "ÂAs COVID-19 has spread, weÂve seen a significant increase in people shopping online for groceries,Â a spokeswoman said in a statement. ÂToday this resulted in a systems impact affecting our ...\r\r\n",
            " https://t.co/TbzZ2MC3b3\n",
            "\n",
            "Tweet20\tSentiment: Positive \n",
            "For those who aren't struggling, please consider donating to a food bank or a nonprofit. The demand for these services will increase as COVID-19 impacts jobs, and people's way of life.\n",
            "\n"
          ]
        }
      ]
    },
    {
      "cell_type": "markdown",
      "source": [
        "#Cleaning Data"
      ],
      "metadata": {
        "id": "iQPg7RkZgD18"
      }
    },
    {
      "cell_type": "code",
      "source": [
        "train_data = train_data[[\"OriginalTweet\",\"Sentiment\"]]\n",
        "test_data = test_data[[\"OriginalTweet\",\"Sentiment\"]]"
      ],
      "metadata": {
        "id": "QHurBm1ZRvpu"
      },
      "execution_count": null,
      "outputs": []
    },
    {
      "cell_type": "code",
      "source": [
        "train_data.head()"
      ],
      "metadata": {
        "colab": {
          "base_uri": "https://localhost:8080/",
          "height": 206
        },
        "id": "Rp6EDzK0gX4L",
        "outputId": "165e5e9c-99f2-4009-ce9c-a342d334bbc9"
      },
      "execution_count": null,
      "outputs": [
        {
          "output_type": "execute_result",
          "data": {
            "text/html": [
              "\n",
              "  <div id=\"df-a56b2e1f-b466-42b2-9650-b80e8363ee8d\">\n",
              "    <div class=\"colab-df-container\">\n",
              "      <div>\n",
              "<style scoped>\n",
              "    .dataframe tbody tr th:only-of-type {\n",
              "        vertical-align: middle;\n",
              "    }\n",
              "\n",
              "    .dataframe tbody tr th {\n",
              "        vertical-align: top;\n",
              "    }\n",
              "\n",
              "    .dataframe thead th {\n",
              "        text-align: right;\n",
              "    }\n",
              "</style>\n",
              "<table border=\"1\" class=\"dataframe\">\n",
              "  <thead>\n",
              "    <tr style=\"text-align: right;\">\n",
              "      <th></th>\n",
              "      <th>OriginalTweet</th>\n",
              "      <th>Sentiment</th>\n",
              "    </tr>\n",
              "  </thead>\n",
              "  <tbody>\n",
              "    <tr>\n",
              "      <th>0</th>\n",
              "      <td>@MeNyrbie @Phil_Gahan @Chrisitv https://t.co/i...</td>\n",
              "      <td>Neutral</td>\n",
              "    </tr>\n",
              "    <tr>\n",
              "      <th>1</th>\n",
              "      <td>advice Talk to your neighbours family to excha...</td>\n",
              "      <td>Positive</td>\n",
              "    </tr>\n",
              "    <tr>\n",
              "      <th>2</th>\n",
              "      <td>Coronavirus Australia: Woolworths to give elde...</td>\n",
              "      <td>Positive</td>\n",
              "    </tr>\n",
              "    <tr>\n",
              "      <th>3</th>\n",
              "      <td>My food stock is not the only one which is emp...</td>\n",
              "      <td>Positive</td>\n",
              "    </tr>\n",
              "    <tr>\n",
              "      <th>4</th>\n",
              "      <td>Me, ready to go at supermarket during the #COV...</td>\n",
              "      <td>Extremely Negative</td>\n",
              "    </tr>\n",
              "  </tbody>\n",
              "</table>\n",
              "</div>\n",
              "      <button class=\"colab-df-convert\" onclick=\"convertToInteractive('df-a56b2e1f-b466-42b2-9650-b80e8363ee8d')\"\n",
              "              title=\"Convert this dataframe to an interactive table.\"\n",
              "              style=\"display:none;\">\n",
              "        \n",
              "  <svg xmlns=\"http://www.w3.org/2000/svg\" height=\"24px\"viewBox=\"0 0 24 24\"\n",
              "       width=\"24px\">\n",
              "    <path d=\"M0 0h24v24H0V0z\" fill=\"none\"/>\n",
              "    <path d=\"M18.56 5.44l.94 2.06.94-2.06 2.06-.94-2.06-.94-.94-2.06-.94 2.06-2.06.94zm-11 1L8.5 8.5l.94-2.06 2.06-.94-2.06-.94L8.5 2.5l-.94 2.06-2.06.94zm10 10l.94 2.06.94-2.06 2.06-.94-2.06-.94-.94-2.06-.94 2.06-2.06.94z\"/><path d=\"M17.41 7.96l-1.37-1.37c-.4-.4-.92-.59-1.43-.59-.52 0-1.04.2-1.43.59L10.3 9.45l-7.72 7.72c-.78.78-.78 2.05 0 2.83L4 21.41c.39.39.9.59 1.41.59.51 0 1.02-.2 1.41-.59l7.78-7.78 2.81-2.81c.8-.78.8-2.07 0-2.86zM5.41 20L4 18.59l7.72-7.72 1.47 1.35L5.41 20z\"/>\n",
              "  </svg>\n",
              "      </button>\n",
              "      \n",
              "  <style>\n",
              "    .colab-df-container {\n",
              "      display:flex;\n",
              "      flex-wrap:wrap;\n",
              "      gap: 12px;\n",
              "    }\n",
              "\n",
              "    .colab-df-convert {\n",
              "      background-color: #E8F0FE;\n",
              "      border: none;\n",
              "      border-radius: 50%;\n",
              "      cursor: pointer;\n",
              "      display: none;\n",
              "      fill: #1967D2;\n",
              "      height: 32px;\n",
              "      padding: 0 0 0 0;\n",
              "      width: 32px;\n",
              "    }\n",
              "\n",
              "    .colab-df-convert:hover {\n",
              "      background-color: #E2EBFA;\n",
              "      box-shadow: 0px 1px 2px rgba(60, 64, 67, 0.3), 0px 1px 3px 1px rgba(60, 64, 67, 0.15);\n",
              "      fill: #174EA6;\n",
              "    }\n",
              "\n",
              "    [theme=dark] .colab-df-convert {\n",
              "      background-color: #3B4455;\n",
              "      fill: #D2E3FC;\n",
              "    }\n",
              "\n",
              "    [theme=dark] .colab-df-convert:hover {\n",
              "      background-color: #434B5C;\n",
              "      box-shadow: 0px 1px 3px 1px rgba(0, 0, 0, 0.15);\n",
              "      filter: drop-shadow(0px 1px 2px rgba(0, 0, 0, 0.3));\n",
              "      fill: #FFFFFF;\n",
              "    }\n",
              "  </style>\n",
              "\n",
              "      <script>\n",
              "        const buttonEl =\n",
              "          document.querySelector('#df-a56b2e1f-b466-42b2-9650-b80e8363ee8d button.colab-df-convert');\n",
              "        buttonEl.style.display =\n",
              "          google.colab.kernel.accessAllowed ? 'block' : 'none';\n",
              "\n",
              "        async function convertToInteractive(key) {\n",
              "          const element = document.querySelector('#df-a56b2e1f-b466-42b2-9650-b80e8363ee8d');\n",
              "          const dataTable =\n",
              "            await google.colab.kernel.invokeFunction('convertToInteractive',\n",
              "                                                     [key], {});\n",
              "          if (!dataTable) return;\n",
              "\n",
              "          const docLinkHtml = 'Like what you see? Visit the ' +\n",
              "            '<a target=\"_blank\" href=https://colab.research.google.com/notebooks/data_table.ipynb>data table notebook</a>'\n",
              "            + ' to learn more about interactive tables.';\n",
              "          element.innerHTML = '';\n",
              "          dataTable['output_type'] = 'display_data';\n",
              "          await google.colab.output.renderOutput(dataTable, element);\n",
              "          const docLink = document.createElement('div');\n",
              "          docLink.innerHTML = docLinkHtml;\n",
              "          element.appendChild(docLink);\n",
              "        }\n",
              "      </script>\n",
              "    </div>\n",
              "  </div>\n",
              "  "
            ],
            "text/plain": [
              "                                       OriginalTweet           Sentiment\n",
              "0  @MeNyrbie @Phil_Gahan @Chrisitv https://t.co/i...             Neutral\n",
              "1  advice Talk to your neighbours family to excha...            Positive\n",
              "2  Coronavirus Australia: Woolworths to give elde...            Positive\n",
              "3  My food stock is not the only one which is emp...            Positive\n",
              "4  Me, ready to go at supermarket during the #COV...  Extremely Negative"
            ]
          },
          "metadata": {},
          "execution_count": 15
        }
      ]
    },
    {
      "cell_type": "code",
      "source": [
        "test_data.head()"
      ],
      "metadata": {
        "colab": {
          "base_uri": "https://localhost:8080/",
          "height": 206
        },
        "id": "wQaONq8kgaGb",
        "outputId": "ef0f3db0-1c23-4f25-b511-6bb1d0d18f55"
      },
      "execution_count": null,
      "outputs": [
        {
          "output_type": "execute_result",
          "data": {
            "text/html": [
              "\n",
              "  <div id=\"df-87a74034-d012-4800-8a45-183da9c12798\">\n",
              "    <div class=\"colab-df-container\">\n",
              "      <div>\n",
              "<style scoped>\n",
              "    .dataframe tbody tr th:only-of-type {\n",
              "        vertical-align: middle;\n",
              "    }\n",
              "\n",
              "    .dataframe tbody tr th {\n",
              "        vertical-align: top;\n",
              "    }\n",
              "\n",
              "    .dataframe thead th {\n",
              "        text-align: right;\n",
              "    }\n",
              "</style>\n",
              "<table border=\"1\" class=\"dataframe\">\n",
              "  <thead>\n",
              "    <tr style=\"text-align: right;\">\n",
              "      <th></th>\n",
              "      <th>OriginalTweet</th>\n",
              "      <th>Sentiment</th>\n",
              "    </tr>\n",
              "  </thead>\n",
              "  <tbody>\n",
              "    <tr>\n",
              "      <th>0</th>\n",
              "      <td>TRENDING: New Yorkers encounter empty supermar...</td>\n",
              "      <td>Extremely Negative</td>\n",
              "    </tr>\n",
              "    <tr>\n",
              "      <th>1</th>\n",
              "      <td>When I couldn't find hand sanitizer at Fred Me...</td>\n",
              "      <td>Positive</td>\n",
              "    </tr>\n",
              "    <tr>\n",
              "      <th>2</th>\n",
              "      <td>Find out how you can protect yourself and love...</td>\n",
              "      <td>Extremely Positive</td>\n",
              "    </tr>\n",
              "    <tr>\n",
              "      <th>3</th>\n",
              "      <td>#Panic buying hits #NewYork City as anxious sh...</td>\n",
              "      <td>Negative</td>\n",
              "    </tr>\n",
              "    <tr>\n",
              "      <th>4</th>\n",
              "      <td>#toiletpaper #dunnypaper #coronavirus #coronav...</td>\n",
              "      <td>Neutral</td>\n",
              "    </tr>\n",
              "  </tbody>\n",
              "</table>\n",
              "</div>\n",
              "      <button class=\"colab-df-convert\" onclick=\"convertToInteractive('df-87a74034-d012-4800-8a45-183da9c12798')\"\n",
              "              title=\"Convert this dataframe to an interactive table.\"\n",
              "              style=\"display:none;\">\n",
              "        \n",
              "  <svg xmlns=\"http://www.w3.org/2000/svg\" height=\"24px\"viewBox=\"0 0 24 24\"\n",
              "       width=\"24px\">\n",
              "    <path d=\"M0 0h24v24H0V0z\" fill=\"none\"/>\n",
              "    <path d=\"M18.56 5.44l.94 2.06.94-2.06 2.06-.94-2.06-.94-.94-2.06-.94 2.06-2.06.94zm-11 1L8.5 8.5l.94-2.06 2.06-.94-2.06-.94L8.5 2.5l-.94 2.06-2.06.94zm10 10l.94 2.06.94-2.06 2.06-.94-2.06-.94-.94-2.06-.94 2.06-2.06.94z\"/><path d=\"M17.41 7.96l-1.37-1.37c-.4-.4-.92-.59-1.43-.59-.52 0-1.04.2-1.43.59L10.3 9.45l-7.72 7.72c-.78.78-.78 2.05 0 2.83L4 21.41c.39.39.9.59 1.41.59.51 0 1.02-.2 1.41-.59l7.78-7.78 2.81-2.81c.8-.78.8-2.07 0-2.86zM5.41 20L4 18.59l7.72-7.72 1.47 1.35L5.41 20z\"/>\n",
              "  </svg>\n",
              "      </button>\n",
              "      \n",
              "  <style>\n",
              "    .colab-df-container {\n",
              "      display:flex;\n",
              "      flex-wrap:wrap;\n",
              "      gap: 12px;\n",
              "    }\n",
              "\n",
              "    .colab-df-convert {\n",
              "      background-color: #E8F0FE;\n",
              "      border: none;\n",
              "      border-radius: 50%;\n",
              "      cursor: pointer;\n",
              "      display: none;\n",
              "      fill: #1967D2;\n",
              "      height: 32px;\n",
              "      padding: 0 0 0 0;\n",
              "      width: 32px;\n",
              "    }\n",
              "\n",
              "    .colab-df-convert:hover {\n",
              "      background-color: #E2EBFA;\n",
              "      box-shadow: 0px 1px 2px rgba(60, 64, 67, 0.3), 0px 1px 3px 1px rgba(60, 64, 67, 0.15);\n",
              "      fill: #174EA6;\n",
              "    }\n",
              "\n",
              "    [theme=dark] .colab-df-convert {\n",
              "      background-color: #3B4455;\n",
              "      fill: #D2E3FC;\n",
              "    }\n",
              "\n",
              "    [theme=dark] .colab-df-convert:hover {\n",
              "      background-color: #434B5C;\n",
              "      box-shadow: 0px 1px 3px 1px rgba(0, 0, 0, 0.15);\n",
              "      filter: drop-shadow(0px 1px 2px rgba(0, 0, 0, 0.3));\n",
              "      fill: #FFFFFF;\n",
              "    }\n",
              "  </style>\n",
              "\n",
              "      <script>\n",
              "        const buttonEl =\n",
              "          document.querySelector('#df-87a74034-d012-4800-8a45-183da9c12798 button.colab-df-convert');\n",
              "        buttonEl.style.display =\n",
              "          google.colab.kernel.accessAllowed ? 'block' : 'none';\n",
              "\n",
              "        async function convertToInteractive(key) {\n",
              "          const element = document.querySelector('#df-87a74034-d012-4800-8a45-183da9c12798');\n",
              "          const dataTable =\n",
              "            await google.colab.kernel.invokeFunction('convertToInteractive',\n",
              "                                                     [key], {});\n",
              "          if (!dataTable) return;\n",
              "\n",
              "          const docLinkHtml = 'Like what you see? Visit the ' +\n",
              "            '<a target=\"_blank\" href=https://colab.research.google.com/notebooks/data_table.ipynb>data table notebook</a>'\n",
              "            + ' to learn more about interactive tables.';\n",
              "          element.innerHTML = '';\n",
              "          dataTable['output_type'] = 'display_data';\n",
              "          await google.colab.output.renderOutput(dataTable, element);\n",
              "          const docLink = document.createElement('div');\n",
              "          docLink.innerHTML = docLinkHtml;\n",
              "          element.appendChild(docLink);\n",
              "        }\n",
              "      </script>\n",
              "    </div>\n",
              "  </div>\n",
              "  "
            ],
            "text/plain": [
              "                                       OriginalTweet           Sentiment\n",
              "0  TRENDING: New Yorkers encounter empty supermar...  Extremely Negative\n",
              "1  When I couldn't find hand sanitizer at Fred Me...            Positive\n",
              "2  Find out how you can protect yourself and love...  Extremely Positive\n",
              "3  #Panic buying hits #NewYork City as anxious sh...            Negative\n",
              "4  #toiletpaper #dunnypaper #coronavirus #coronav...             Neutral"
            ]
          },
          "metadata": {},
          "execution_count": 16
        }
      ]
    },
    {
      "cell_type": "markdown",
      "source": [
        "##Cleaning Duplicate tweets"
      ],
      "metadata": {
        "id": "xs3xfWsBgz6c"
      }
    },
    {
      "cell_type": "code",
      "source": [
        "train_data.info()"
      ],
      "metadata": {
        "colab": {
          "base_uri": "https://localhost:8080/"
        },
        "id": "ifOcML16gdUb",
        "outputId": "e5996217-70a1-4365-b25a-32c4194b7b92"
      },
      "execution_count": null,
      "outputs": [
        {
          "output_type": "stream",
          "name": "stdout",
          "text": [
            "<class 'pandas.core.frame.DataFrame'>\n",
            "RangeIndex: 41157 entries, 0 to 41156\n",
            "Data columns (total 2 columns):\n",
            " #   Column         Non-Null Count  Dtype \n",
            "---  ------         --------------  ----- \n",
            " 0   OriginalTweet  41157 non-null  object\n",
            " 1   Sentiment      41157 non-null  object\n",
            "dtypes: object(2)\n",
            "memory usage: 643.2+ KB\n"
          ]
        }
      ]
    },
    {
      "cell_type": "code",
      "source": [
        "train_data.drop_duplicates(subset=\"OriginalTweet\",inplace=True)"
      ],
      "metadata": {
        "id": "BE-0v7augyHN"
      },
      "execution_count": null,
      "outputs": []
    },
    {
      "cell_type": "code",
      "source": [
        "train_data.info() #No duplicate tweets."
      ],
      "metadata": {
        "colab": {
          "base_uri": "https://localhost:8080/"
        },
        "id": "6lAThKFqhB68",
        "outputId": "4c6da66f-abfe-45ef-b07e-14b8eafa373c"
      },
      "execution_count": null,
      "outputs": [
        {
          "output_type": "stream",
          "name": "stdout",
          "text": [
            "<class 'pandas.core.frame.DataFrame'>\n",
            "Int64Index: 41157 entries, 0 to 41156\n",
            "Data columns (total 2 columns):\n",
            " #   Column         Non-Null Count  Dtype \n",
            "---  ------         --------------  ----- \n",
            " 0   OriginalTweet  41157 non-null  object\n",
            " 1   Sentiment      41157 non-null  object\n",
            "dtypes: object(2)\n",
            "memory usage: 964.6+ KB\n"
          ]
        }
      ]
    },
    {
      "cell_type": "markdown",
      "source": [
        "#Normalization Test1"
      ],
      "metadata": {
        "id": "gHMNA3hkFCzS"
      }
    },
    {
      "cell_type": "markdown",
      "source": [
        "\n",
        "\n",
        "*   Remove all mentions and URLs\n",
        "*   Remove all emojis\n",
        "*   Remove all \\n and \\r\n",
        "*   Remove all special characters (&,$,£,¥)\n",
        "*   Remove end hashtags at the and keep middle hashtags without # symbol\n",
        "*   Remove multiple spaces\n",
        "*   Lowercase"
      ],
      "metadata": {
        "id": "VhPnGhDxFG_i"
      }
    },
    {
      "cell_type": "code",
      "source": [
        "def remove_mention_URL(tweet):\n",
        "  return re.sub(r\"(?:\\@|https?\\://)\\S+\", \"\", tweet)\n",
        "  "
      ],
      "metadata": {
        "id": "y94L_d4--uL9"
      },
      "execution_count": null,
      "outputs": []
    },
    {
      "cell_type": "code",
      "source": [
        "test_tweet = \"@aydcsr Kanka şu linke baksana https://www.youtube.com/watch?v=0obBdrfUMzU\"\n",
        "test_tweet = remove_mention_URL(test_tweet)\n",
        "print(test_tweet),\n",
        "test_data_tweet = remove_mention_URL(train_data[\"OriginalTweet\"][0])\n",
        "print(train_data[\"OriginalTweet\"][0])\n",
        "print(test_data_tweet)"
      ],
      "metadata": {
        "colab": {
          "base_uri": "https://localhost:8080/"
        },
        "id": "OCO1sTELIjKB",
        "outputId": "27c7af41-6ea2-4b9e-c13a-e99af5450e21"
      },
      "execution_count": null,
      "outputs": [
        {
          "output_type": "stream",
          "name": "stdout",
          "text": [
            " Kanka şu linke baksana \n",
            "@MeNyrbie @Phil_Gahan @Chrisitv https://t.co/iFz9FAn2Pa and https://t.co/xX6ghGFzCC and https://t.co/I2NlzdxNo8\n",
            "    and  and \n"
          ]
        }
      ]
    },
    {
      "cell_type": "code",
      "source": [
        "#for tweet in train_data[\"OriginalTweet\"][:500]:\n",
        "#  print(tweet.encode(\"latin-1\").decode(\"utf8\"))"
      ],
      "metadata": {
        "id": "ASnzJ7XwMIdJ"
      },
      "execution_count": null,
      "outputs": []
    },
    {
      "cell_type": "markdown",
      "source": [
        "No emoji was found when looking at the tweets. That's why emoji normalization is skipped for now."
      ],
      "metadata": {
        "id": "KO9EI38bguT2"
      }
    },
    {
      "cell_type": "code",
      "source": [
        "def remove_newline(tweet):\n",
        "  return tweet.replace('\\r', '').replace('\\n', ' ')\n",
        "test_tweet = \"Kanka\\nŞuna\\n\\rbi baksana\\raloo\"\n",
        "print(test_tweet)\n",
        "test_tweet = remove_newline(test_tweet)\n",
        "print(\"After :\",test_tweet)"
      ],
      "metadata": {
        "id": "GKpSs8-DP-nY",
        "colab": {
          "base_uri": "https://localhost:8080/"
        },
        "outputId": "cacc0767-029f-42a7-eb33-10f5a12d59f0"
      },
      "execution_count": null,
      "outputs": [
        {
          "output_type": "stream",
          "name": "stdout",
          "text": [
            "Kanka\n",
            "Şuna\n",
            "\rbi baksana\raloo\n",
            "After : Kanka Şuna bi baksanaaloo\n"
          ]
        }
      ]
    },
    {
      "cell_type": "code",
      "source": [
        "def remove_char(tweet):\n",
        "  return tweet.replace('$',' ').replace('£',' ').replace('&',' ').replace('¥',' ')\n",
        "test_tweet = \"Dolar$ : 18.5\\nEuro$: 20 Küsür\\nYen¥: Yenmeyecek seviyede & Bu kötü bir şaka\"\n",
        "print(test_tweet)\n",
        "test_tweet = remove_char(test_tweet)\n",
        "print(\"After:\\n\",test_tweet)"
      ],
      "metadata": {
        "colab": {
          "base_uri": "https://localhost:8080/"
        },
        "id": "C5yyE_u8hlVn",
        "outputId": "4d389bf5-4eea-4ad6-da55-ac1f7dd184f1"
      },
      "execution_count": null,
      "outputs": [
        {
          "output_type": "stream",
          "name": "stdout",
          "text": [
            "Dolar$ : 18.5\n",
            "Euro$: 20 Küsür\n",
            "Yen¥: Yenmeyecek seviyede & Bu kötü bir şaka\n",
            "After:\n",
            " Dolar  : 18.5\n",
            "Euro : 20 Küsür\n",
            "Yen : Yenmeyecek seviyede   Bu kötü bir şaka\n"
          ]
        }
      ]
    },
    {
      "cell_type": "code",
      "source": [
        "def remove_hashtag(tweet):\n",
        "  new_tweet = \" \".join(word.strip() for word in re.split('#(?!(?:hashtag)\\b)[\\w-]+(?=(?:\\s+#[\\w-]+)*\\s*$)', tweet)) #remove last hashtags\n",
        "  new_tweet2 = \" \".join(word.strip() for word in re.split('#|_', new_tweet)) #remove hashtags symbol from words in the middle of the sentence\n",
        "  return new_tweet2\n",
        "test_tweet = \"#HT1 burada bazı yazılar #HT2 Burada da bazı yazılar #HT3 #HT4\"\n",
        "print(test_tweet)\n",
        "test_tweet = remove_hashtag(test_tweet)\n",
        "print(\"After\\n\",test_tweet)"
      ],
      "metadata": {
        "colab": {
          "base_uri": "https://localhost:8080/"
        },
        "id": "B61penI7iRCe",
        "outputId": "ed08572f-b858-4ea2-e865-dace6e8dc613"
      },
      "execution_count": null,
      "outputs": [
        {
          "output_type": "stream",
          "name": "stdout",
          "text": [
            "#HT1 burada bazı yazılar #HT2 Burada da bazı yazılar #HT3 #HT4\n",
            "After\n",
            "  HT1 burada bazı yazılar HT2 Burada da bazı yazılar\n"
          ]
        }
      ]
    },
    {
      "cell_type": "code",
      "source": [
        "def remove_mult_spaces(tweet):\n",
        "    return re.sub(\"\\s\\s+\" , \" \", tweet)\n",
        "test_tweet = \"Şimdi  ben    buraya ne   yazıcam    niye    yazıcam\"\n",
        "print(test_tweet)\n",
        "test_tweet = remove_mult_spaces(test_tweet)\n",
        "print(\"After\\n\",test_tweet)"
      ],
      "metadata": {
        "colab": {
          "base_uri": "https://localhost:8080/"
        },
        "id": "QnSq5cONmFle",
        "outputId": "8b1042df-47e9-4ce4-f578-5c52dcdef7e3"
      },
      "execution_count": null,
      "outputs": [
        {
          "output_type": "stream",
          "name": "stdout",
          "text": [
            "Şimdi  ben    buraya ne   yazıcam    niye    yazıcam\n",
            "After\n",
            " Şimdi ben buraya ne yazıcam niye yazıcam\n"
          ]
        }
      ]
    },
    {
      "cell_type": "code",
      "source": [
        "def normalize(tweet):\n",
        "  tweet = remove_mention_URL(tweet)\n",
        "  tweet = remove_newline(tweet)\n",
        "  tweet = remove_char(tweet)\n",
        "  tweet = remove_hashtag(tweet)\n",
        "  tweet = remove_mult_spaces(tweet)\n",
        "  tweet = tweet.lower()\n",
        "  return tweet"
      ],
      "metadata": {
        "id": "AcH0-Ycfmv6O"
      },
      "execution_count": null,
      "outputs": []
    },
    {
      "cell_type": "code",
      "source": [
        "test_tweet = \"@aydcsr\\r #Kanka\\n£al $al  YATIRIM YAP\\n #SaveMoney @user123 #COVID\"\n",
        "print(test_tweet)\n",
        "test_tweet = normalize(test_tweet)\n",
        "print(\"After\\n\",test_tweet)"
      ],
      "metadata": {
        "colab": {
          "base_uri": "https://localhost:8080/"
        },
        "id": "-D8z_55NnqtI",
        "outputId": "15fcf282-7dcc-4c16-a23e-65b694ddd8c2"
      },
      "execution_count": null,
      "outputs": [
        {
          "output_type": "stream",
          "name": "stdout",
          "text": [
            "@aydcsr\r #Kanka\n",
            "£al $al  YATIRIM YAP\n",
            " #SaveMoney @user123 #COVID\n",
            "After\n",
            "  kanka al al yatirim yap\n"
          ]
        }
      ]
    },
    {
      "cell_type": "markdown",
      "source": [
        "Şuana kadar güzel iş yapıyor bence"
      ],
      "metadata": {
        "id": "h-y1a-UAodFG"
      }
    },
    {
      "cell_type": "markdown",
      "source": [
        "##Normalize train and test data"
      ],
      "metadata": {
        "id": "qbwus1NSokd2"
      }
    },
    {
      "cell_type": "code",
      "source": [
        "new_train_data = []\n",
        "for tweet in train_data[\"OriginalTweet\"]:\n",
        "  new_tweet = normalize(tweet)\n",
        "  new_train_data.append(new_tweet)"
      ],
      "metadata": {
        "id": "4r9XW7D7n9wd"
      },
      "execution_count": null,
      "outputs": []
    },
    {
      "cell_type": "code",
      "source": [
        "new_test_data = []\n",
        "for tweet in test_data[\"OriginalTweet\"]:\n",
        "  new_tweet = normalize(tweet)\n",
        "  new_test_data.append(new_tweet)"
      ],
      "metadata": {
        "id": "de-lhJOlpEy2"
      },
      "execution_count": null,
      "outputs": []
    },
    {
      "cell_type": "code",
      "source": [
        "new_test_data[0]"
      ],
      "metadata": {
        "colab": {
          "base_uri": "https://localhost:8080/",
          "height": 54
        },
        "id": "VoiqbmaBpHP1",
        "outputId": "890b9a66-b900-4581-a3da-115793d46f25"
      },
      "execution_count": null,
      "outputs": [
        {
          "output_type": "execute_result",
          "data": {
            "application/vnd.google.colaboratory.intrinsic+json": {
              "type": "string"
            },
            "text/plain": [
              "'trending: new yorkers encounter empty supermarket shelves (pictured, wegmans in brooklyn), sold-out online grocers (foodkick, maxdelivery) as coronavirus-fearing shoppers stock up'"
            ]
          },
          "metadata": {},
          "execution_count": 59
        }
      ]
    },
    {
      "cell_type": "code",
      "source": [
        "train_tweets_lens = []\n",
        "for tweet in new_train_data:\n",
        "  tweet_len = len(tweet.split())\n",
        "  train_tweets_lens.append(tweet_len)"
      ],
      "metadata": {
        "id": "Xmn8WC_QqNHl"
      },
      "execution_count": null,
      "outputs": []
    },
    {
      "cell_type": "code",
      "source": [
        "test_tweets_lens = []\n",
        "for tweet in new_test_data:\n",
        "  tweet_len = len(tweet.split())\n",
        "  test_tweets_lens.append(tweet_len)"
      ],
      "metadata": {
        "id": "ENuA7p8Uvwst"
      },
      "execution_count": null,
      "outputs": []
    },
    {
      "cell_type": "code",
      "source": [
        "new_train_df = {\"Tweet\":new_train_data, \"Tweet_len\":train_tweets_lens,\"Sentiment\":train_data[\"Sentiment\"]}\n",
        "if len(new_train_df[\"Tweet\"])!=len(new_train_df[\"Tweet_len\"]) or len(new_train_df[\"Tweet\"])!=len(new_train_df[\"Sentiment\"]):\n",
        "  print(\"Problem var\")\n",
        "else:\n",
        "  print(\"All OK\")"
      ],
      "metadata": {
        "colab": {
          "base_uri": "https://localhost:8080/"
        },
        "id": "VVDwxh0Sv9Ac",
        "outputId": "5aad8606-c83c-4f19-95e6-35f234d60c7d"
      },
      "execution_count": null,
      "outputs": [
        {
          "output_type": "stream",
          "name": "stdout",
          "text": [
            "All OK\n"
          ]
        }
      ]
    },
    {
      "cell_type": "code",
      "source": [
        "for i in range(len(new_train_df[\"Tweet\"])):\n",
        "  if new_train_df[\"Tweet_len\"][i] < 5:\n",
        "    print(new_train_df[\"Tweet\"][i])\n",
        "  else:\n",
        "    pass\n"
      ],
      "metadata": {
        "colab": {
          "base_uri": "https://localhost:8080/"
        },
        "id": "6uxRQuIYxFJM",
        "outputId": "7f961eff-b147-49d1-fbd2-77fd6834ecd3"
      },
      "execution_count": null,
      "outputs": [
        {
          "output_type": "stream",
          "name": "stdout",
          "text": [
            "and and\n",
            "dear hoarder : covid?19\n",
            "cleanshelf supermarket sanitizers 19\n",
            "\n",
            "please read this thread\n",
            "binge shopping online\n",
            "here's the full list:\n",
            "student resources during covid-19\n",
            "clean-up on aisle 3:16.\n",
            "this is kind\n",
            "time to step up\n",
            "this is just madness!!\n",
            "for more updates, visit\n",
            "online shopping\n",
            " ny wilding rn ??\n",
            "covid-19 supermarket sweep\n",
            "covid-19 retail store closures\n",
            "âthe screamâ mk 2020\n",
            "\n",
            "grocery store this morning\n",
            "checks from the government\n",
            "the poor supermarket workers\n",
            "another update\n",
            "meantime, at\n",
            "release update information.\n",
            "england 2020 coronavirus covid?19uk\n",
            "managing covid-19 disruption\n",
            " coronavirus increases chinese phones\n",
            " gas during coronavirus, from\n",
            "chain retail reaction\n",
            "oil prices at 23.18\n",
            "oil prices at 22.90\n",
            "updated product limits from\n",
            "a few wise words.\n",
            "please stop panic buying!\n",
            "supermarket owners rn ??\n",
            "?? supermarket job openings\n",
            "the new supermarket wars\n",
            "brings to its knees\n",
            "empty supermarket aisles everywhere\n",
            "expose these greedy bastards.\n",
            "\n",
            "from today's\n",
            "it has begun.\n",
            "so, calm down, people!\n",
            "managing anxiety during lock-down\n",
            "low-cost open source ventilator\n",
            "prosecute the gobshites\n",
            "fucking idiots\n",
            "managing covid-19 disruption: ferpa\n",
            "will change the forever\n",
            "just saying\n",
            "fresh fruit too\n",
            "coronavirus...better...netizens...mockery...mode...melania...star...pandemic...ads...watch...shop...staff...push...elderly...man...outside...store...london...public...losing...temper...covid-19...priyanka chopra...urge...fan...stock...up...joy...love...grocery...pandemic...\n",
            "us...impose...new...iran...link...sanctions...7...entities...covid-19...consumer...good...giant...face...boycott...call.. .raising...soap...hand...sanitiser...prices...covid-19...rbi...buy... ...1...35...bln...worth...gov't...securities...stabilise...financial...market...\n",
            "nonna knows best\n",
            "complete madness\n",
            "feeeking selfish panic buying,\n",
            "grocery store run... ?\n",
            "gas prices dropping:\n",
            "protecting grocery store workers\n",
            "grocery store scavenger hunt.\n",
            "local grocery store\n",
            "chemists have solutions! ???????\n",
            "britain? ...also britain. ????\n",
            "completely and utterly shameful!\n",
            "and so it goes...\n",
            "fucking shameful. that's all.\n",
            "+ grocery store employees\n",
            "anyone have a quarter?\n",
            "thank you brad paisley\n",
            "meanwhile, in nz... ???\n",
            "check out brandon's video!\n",
            "and stop stockpiling!\n",
            "forever on repeat...\n",
            "stop fucking hoarding\n",
            "reality check indeed\n",
            "meanwhile at home\n",
            "rightmove warns uk facing\n",
            " coronavirus covid19 prices suck\n",
            "unintended consequences...\n",
            "daily reflection 20/3/20\n",
            "fame confusion.\n",
            "be like bob\n",
            "precisely what she said\n",
            "share food not coronavirus\n",
            "iâve always liked\n",
            "so sad! ?\n",
            "perfect...storm...coronavirus...pose...big...threat...bomb...job...income...post-brexit...uk...economy...covid-19...uk...supermarket...want...police...support...london...lock...down...us...gas...oil...price...war...time...trump...libya...suriname...sao tome and principe...bolivia\n",
            "shopping online during covid-19\n",
            "can we just not?\n",
            "grocery store bingo\n",
            "spotted outside the supermarket...\n",
            "thanks gran..\n",
            "my own views.\n",
            "thar she blows!\n",
            "italy declares martial law\n",
            "please stop hoarding.\n",
            "the uk right now\n",
            "only in france\n",
            "state your country.\n",
            "no shortage here. brilliant\n",
            "and price gouging\n",
            "seems about right\n",
            "8am outside aldi supermarket\n",
            "this is just astonishing.\n",
            "organized crime rollout....\n",
            "a nice calm chat\n",
            "stay safe everyone\n",
            "includes your local supermarket...\n",
            "my supermarket update..\n",
            "where's me chainsaw... ?\n",
            "lessons learned in 2020\n",
            "stop panic buying\n",
            "flight prices ??\n",
            "much to think about...\n",
            "\n",
            "toilet paper slayer\n",
            "shame on them!\n",
            "caught fleecing people\n",
            "what the?...\n",
            "toilet paper? what's that?\n",
            "signs of the times\n",
            "toilet paper anyone\n",
            "toilet paper for brains....\n",
            "purell hand sanitizer\n",
            "purell hand sanitizer wipes\n",
            "happy first birthday jack\n",
            "amazonâs black market: reviews\n",
            "foodland supermarket bangkok covid?19\n",
            "no store pick up\n",
            "supermarkets right now\n",
            "chinese virus fact check\n",
            "covid-19 consumer rights\n",
            "...i'm gonna need more\n",
            "tissue issue\n",
            "protip: donât do this\n",
            "busy becoming self-sufficient\n",
            "humanity is doomed\n",
            "the selfish public\n",
            "leaving the store. covid?19\n",
            "just saying... skyrim covid?19\n",
            "haunting regrets\n",
            "is this true!??\n",
            "terrible species. covid?19\n",
            "supermarket or laboratory?\n",
            "fracking is dangerous.\n",
            "supply and demand!??? -\n",
            "who remembers places??? -\n",
            "?follow more\n",
            "brilliant idea!!! covid?19\n",
            "new house hold rule\n",
            "cartoon for\n",
            "wash your hands ???\n",
            "a message at 2:30am.\n",
            "tp hoarding explained\n",
            "by make it rain\n",
            "a new religion ?\n",
            "letâs make it easy.\n",
            "possible lifeaftercovid consumer trend\n",
            "good riddance fracking!\n",
            "month? try year.\n",
            "high fashion these days\n",
            "the view from ireland.\n",
            "dont touch my toiletpaper\n",
            "estimated damage by thoughts\n",
            "2020 reality...\n",
            "for toilet paper?!?!\n",
            "ahhhhhh.......simpler times...........\n",
            "learn how to spot\n",
            "too accurate 19\n",
            "need help. anyone know?\n",
            "how to annoy everyone\n",
            "it was yummy!!!!\n",
            "meanwhile in italy ???\n",
            "practice safe shopping\n",
            "watch out for scams!\n",
            "current situation\n",
            "germany...merkel...quarantine...supermarket...meeting...covid-19...infected...doctor...us...senator...rand paul...test...positive...jeffrey epstein...spent...thousands...dollars...funding...alleged...pimp...ghislaine...maxwell...die...\n",
            "jason (needs)delooroll\n",
            "lysol laundry sanitizer\n",
            "this true doe ?\n",
            "bust boredom for days...\n",
            "covid19 robbery gone bad.\n",
            "the perfect covid?19 gif?\n",
            "happy monday teachers remember\n",
            "after the grocery store\n",
            "be like my dude\n",
            "what day is it?\n",
            "survival strategy\n",
            "toilet rool crime ????\n",
            "covid-19 youtube trends ?\n",
            "tips on cyber safety.\n",
            "coronavirus is here\n",
            "fashion week is coming!\n",
            "breaking news\n",
            "an american living in\n",
            "ashleyâs coronavirus parody\n",
            "cake ? ? anyone?\n",
            "boy this is sad!\n",
            "omg y all\n",
            "safe mode supermarket\n",
            "wednesdayâs funny ?\n",
            "survey%3a%20how%20is%20covid-19%20changing%20consumer%20%26%23038%3b%20ecommerce%20trends%3f via\n",
            "homemade hand sanitizer, yessiiirrrr!\n",
            "iâm crazy too\n",
            "parcour quarantine\n",
            "capitalism is death.\n",
            "the explained brilliantly\n",
            "the struggle is real.\n",
            "**scam alert** via\n",
            "how wonderful.\n",
            "man needs a\n",
            "03.25.2020 england amp;turkey supermarket\n",
            "\n",
            "amazing people indeed!\n",
            "vietnamese supermarket during covid-19:\n",
            "american supermarket with covid-19\n",
            "toilet paper wedding dress\n",
            "has toilet paper peaked?\n",
            "you mean hand sanitizer\n",
            "there is vegetable soap.\n",
            "meanwhile, on earth,...\n",
            "is getting in to\n",
            "lowest prices ? !!!\n",
            "learn more at\n",
            "unbelievable\n",
            "fucking jason\n",
            "asking for sanitizer... ??\n",
            " coronavirus testing kits\n",
            "supermarket lines in\n",
            "very strong, direct communication\n",
            "covid-19-lock-down-don039t-panic-there-is-more-food--deputy-agric-minister\n",
            " n95mask fda available for\n",
            "s brings to its\n",
            "singapore home prices fall\n",
            " katalonski biha? vu?jak\n",
            "clears voice pennsylvania\n",
            " coronavirus in your fridge:\n",
            "america, 2020\n",
            "about that map...\n",
            "these look snazzy\n",
            "brazil...health...official...confirm...first...indigenous...coronavirus...case...amazon...chief...bezos...say...donating...100...food...charity...covid-19...pandemic...trump...campaign...demand...jeff...session...campaign...end...delusional...invoking...ties...president...turkey\n",
            "standard supermarket attire.\n",
            "and grocery store employees!\n",
            "\n",
            " pricegouging laws by state.\n",
            "choose your fighter\n",
            "hereâs your ord-\n",
            "since gasolina is trending\n",
            "house prices and covid-19\n",
            "yup - pretty much\n",
            "catching a supermarket\n",
            "this is awesome!\n",
            "good article.\n",
            "on the other hand\n",
            "global village online shopping\n",
            "feel the burn! ?\n",
            "i made a meme!\n",
            "weâre all goners.\n",
            "roses are red\n",
            "follow that truck serious\n",
            "the cnp report\n",
            "stages of response\n",
            "just chillin\n",
            "minion world via\n",
            "supermarket shopping be like....\n",
            "\n",
            "\n",
            "2020 commemorative earrings!\n",
            "she is an idiot??\n",
            "i still got ideas!\n",
            "this is serious, folks.\n",
            "welcome to gauge-on-foods\n",
            "another covid-19 impact\n",
            "how iâll always remember\n",
            "social distancing, remember always!\n",
            "call out the troops.\n",
            "voi taivas varjele.\n",
            "good to know\n",
            "@\n",
            "\n",
            "supermarket trip walkthrough\n",
            "protect what you love\n",
            "\n",
            "\n",
            "share to facebook\n",
            "interesting stuff\n",
            "is your supermarket safe?\n",
            "come on, chickens!\n",
            "heartbreaking and devastating. ??\n",
            "avoiding ssa scams during\n",
            "who wants some coronacake?\n",
            "quarantine life\n",
            "\"retail therapy\" is dead.\n",
            "is this texas' future?\n",
            "feeling very seen\n",
            "florida food bank lines\n",
            "??????? ?????0.3???? ???????\n",
            "homemade hand sanitizer:\n",
            "today's podcast, featuring\n",
            "consumer behaviour covid-19\n",
            "sanauto.... for spraying sanitizer....\n",
            "heartbreaking.\n",
            "reference reading materials\n",
            "something to read\n",
            "this is my fear:\n",
            "a research website\n",
            "worthy reading material\n",
            "bill passed\n",
            "pandemic breeds multiple scams\n",
            "worthy of a read\n",
            "stay home, stay safe.\n",
            "home prices growing faster\n",
            "keda-ceramics-ghana-and-sunda-international-dealers-in-fast-moving-consumer-goods-have-donated-five-hundred-thousand-ghana-cedis-ghc-5000...\n",
            "you better fuckin not\n",
            "th\n",
            "this is devestating\n",
            "they are important\n",
            "find these two quickly.\n",
            "meanwhile in india...\n",
            "great job by\n",
            "the consumer after covid-19\n",
            "makes an interest read\n",
            "amp\n",
            "\n",
            "\n",
            "stop. sharing. medium. posts.\n",
            "here you go\n",
            "a resource for today\n",
            "covid-19 consumer protections -\n",
            "reading materials\n",
            "online shopping\n",
            "last paycheck 20. aweful.\n",
            "funny t shirt 19\n",
            "get your paper together\n",
            "junction online shopping during\n",
            "sanitizing the neighborhood.\n",
            "i made a meme.\n",
            "our hero ?? ??\n",
            "hand senitizer\n",
            "\n",
            "please be careful.\n",
            "this is absolutely brilliant.\n",
            "crisis averted\n",
            " covid19: supermarketowners, customers request\n",
            "hand sanitizer available at\n",
            "announces new eo\n",
            "pet food in demand\n",
            "found these diagrams helpful\n",
            "hand sanitizer\n",
            "nightcrawler\n",
            "i survived.\n",
            "workers need a break.\n",
            "score! thanks\n",
            "immune system overreacting.\n",
            "will trade for\n",
            "all natural hand sanitizers\n",
            "thanks\n",
            "hand sanitizer\n",
            "toilet paper\n",
            "happy easter!\n",
            "there's your answer, fishbulb.\n",
            "adel and karina xxx\n",
            "might be interesting....\n",
            "interesting article....\n",
            "interesting aricle 19\n",
            "toilet tissue laughs.\n",
            "shopping trolley barrier note\n",
            "together we can\n",
            "my current monthly budget\n",
            "supermarket madness!\n",
            "back to basics\n"
          ]
        }
      ]
    },
    {
      "cell_type": "markdown",
      "source": [
        "... ile kelimeleri ayırmışlar bu ayrımı da ilerleyen zamanlarda normalize etmeliyiz"
      ],
      "metadata": {
        "id": "K1LgNteM0akk"
      }
    },
    {
      "cell_type": "markdown",
      "source": [
        "Gelecek Çalışmada Yapılacaklar.\n",
        "\n",
        "* tweet uzunluğu 5 den küçük olanları datasetten çıkar  \n",
        "* normalize edilmiş train ve test datalarını üzerinde çalışmak için kaydet\n",
        "* Bert modeli için bu verileri test et\n",
        "\n"
      ],
      "metadata": {
        "id": "-xaHD5Ey0sbE"
      }
    }
  ]
}